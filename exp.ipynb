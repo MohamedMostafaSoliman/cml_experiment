{
 "cells": [
  {
   "cell_type": "code",
   "execution_count": 1,
   "metadata": {},
   "outputs": [],
   "source": [
    "import numpy as np\n",
    "import pandas as pd\n",
    "import matplotlib.pyplot as plt\n",
    "import seaborn as sns\n",
    "import os\n",
    "from imblearn.over_sampling import SMOTE\n",
    "from PIL import Image\n",
    "## skelarn -- preprocessing\n",
    "from sklearn.model_selection import train_test_split\n",
    "from sklearn.impute import SimpleImputer\n",
    "from sklearn.preprocessing import OneHotEncoder, StandardScaler\n",
    "from sklearn.pipeline import Pipeline, FeatureUnion\n",
    "from sklearn_features.transformers import DataFrameSelector\n",
    "\n",
    "## skelarn -- models\n",
    "# from sklearn.neighbors import KNeighborsClassifier\n",
    "from sklearn.ensemble import RandomForestClassifier\n",
    "# from sklearn.linear_model import LogisticRegression\n",
    "\n",
    "## sklearn -- metrics\n",
    "from sklearn.metrics import f1_score, confusion_matrix"
   ]
  },
  {
   "cell_type": "code",
   "execution_count": 2,
   "metadata": {},
   "outputs": [],
   "source": [
    "## --------------------- Data Preparation ---------------------------- ##\n",
    "\n",
    "## Read the Dataset\n",
    "TRAIN_PATH = os.path.join(os.getcwd(), 'dataset.csv')\n",
    "df = pd.read_csv(TRAIN_PATH)\n",
    "\n",
    "df.drop(columns=['RowNumber', 'CustomerId', 'Surname'], axis=0, inplace=True)\n",
    "\n",
    "df.drop(index=df[df[\"Age\"] > 80].index.tolist(), axis=0, inplace=True)"
   ]
  },
  {
   "cell_type": "code",
   "execution_count": 3,
   "metadata": {},
   "outputs": [],
   "source": [
    "## To features and target\n",
    "X = df.drop(columns=['Exited'], axis=1)\n",
    "y = df['Exited']"
   ]
  },
  {
   "cell_type": "code",
   "execution_count": 4,
   "metadata": {},
   "outputs": [],
   "source": [
    "X_train, X_test, y_train, y_test = train_test_split(X, y, test_size=0.2, shuffle=True, random_state=45, stratify=y)"
   ]
  },
  {
   "cell_type": "code",
   "execution_count": 5,
   "metadata": {},
   "outputs": [],
   "source": [
    "## Slice the lists\n",
    "num_cols = ['Age', 'CreditScore', 'Balance', 'EstimatedSalary']\n",
    "categ_cols = ['Gender', 'Geography']\n",
    "\n",
    "ready_cols = list(set(X_train.columns.tolist()) - set(num_cols) - set(categ_cols))"
   ]
  },
  {
   "cell_type": "code",
   "execution_count": 11,
   "metadata": {},
   "outputs": [],
   "source": [
    "num_pipeline = Pipeline(steps=[\n",
    "    ('selector', DataFrameSelector(num_cols)),\n",
    "    ('imputer', SimpleImputer(strategy='median')),\n",
    "    ('scalar', StandardScaler())\n",
    "])\n",
    "\n",
    "categ_pipeline = Pipeline(steps=[\n",
    "    ('selector', DataFrameSelector(categ_cols)),\n",
    "    ('imputer', SimpleImputer(strategy='most_frequent')),\n",
    "    ('ohe', OneHotEncoder(drop='first', sparse_output=False))\n",
    "])\n",
    "\n",
    "ready_pipeline = Pipeline(steps=[\n",
    "    ('selector', DataFrameSelector(ready_cols)),\n",
    "    ('imputer', SimpleImputer(strategy='most_frequent'))\n",
    "])"
   ]
  },
  {
   "cell_type": "code",
   "execution_count": 12,
   "metadata": {},
   "outputs": [],
   "source": [
    "all_pipeline = FeatureUnion(transformer_list=[\n",
    "    ('num_pipeline', num_pipeline),\n",
    "    ('categ_pipeline', categ_pipeline),\n",
    "    ('ready_pipeline', ready_pipeline)\n",
    "])"
   ]
  },
  {
   "cell_type": "code",
   "execution_count": 13,
   "metadata": {},
   "outputs": [],
   "source": [
    "X_train_final = all_pipeline.fit_transform(X_train)\n",
    "X_test_final = all_pipeline.transform(X_test)"
   ]
  },
  {
   "cell_type": "code",
   "execution_count": 17,
   "metadata": {},
   "outputs": [],
   "source": [
    "## 2. prepare class_weights for solving imbalance dataset\n",
    "vals_count = 1 - (np.bincount(y_train) / len(y_train))\n",
    "vals_count = vals_count / np.sum(vals_count)  ## normalizing\n"
   ]
  },
  {
   "cell_type": "code",
   "execution_count": 18,
   "metadata": {},
   "outputs": [],
   "source": [
    "\n",
    "dict_weights = {}\n",
    "for i in range(2):  ## 2 classes (0, 1)\n",
    "    dict_weights[i] = vals_count[i]\n",
    "\n",
    "## 3. Using SMOTE for over sampling\n",
    "over = SMOTE(sampling_strategy=0.7)\n",
    "X_train_resmapled, y_train_resampled = over.fit_resample(X_train_final, y_train)\n",
    "\n"
   ]
  },
  {
   "cell_type": "code",
   "execution_count": 25,
   "metadata": {},
   "outputs": [],
   "source": [
    "with open('metrics.txt', 'w') as f:\n",
    "    pass"
   ]
  },
  {
   "cell_type": "code",
   "execution_count": 26,
   "metadata": {},
   "outputs": [],
   "source": [
    "def train_model(X_train, y_train, plot_name='', class_weight=None):\n",
    "    \"\"\" A function to train model given the required train data \"\"\"\n",
    "    \n",
    "    global clf_name\n",
    "\n",
    "    clf = RandomForestClassifier(n_estimators=500, max_depth=10, random_state=45, class_weight=class_weight)\n",
    "    clf.fit(X_train, y_train)\n",
    "    y_pred_train = clf.predict(X_train)\n",
    "    y_pred_test = clf.predict(X_test_final)\n",
    "    \n",
    "    ## Using f1_score\n",
    "    score_train = f1_score(y_train, y_pred_train)\n",
    "    score_test = f1_score(y_test, y_pred_test)\n",
    "    \n",
    "    clf_name = clf.__class__.__name__\n",
    "\n",
    "    ## Plot the confusion matrix \n",
    "    plt.figure(figsize=(8, 6))\n",
    "    sns.heatmap(confusion_matrix(y_test, y_pred_test), annot=True, cbar=False, fmt='.2f', cmap='Blues')\n",
    "    plt.title(f'{plot_name}')\n",
    "    plt.xticks(ticks=np.arange(2) + 0.5, labels=[False, True])\n",
    "    plt.yticks(ticks=np.arange(2) + 0.5, labels=[False, True])\n",
    "\n",
    "    ## Save the plot locally\n",
    "    plt.savefig(f'{plot_name}.png', bbox_inches='tight', dpi=300)\n",
    "    plt.close()\n",
    "\n",
    "\n",
    "    ## Write scores to a file\n",
    "    with open('metrics.txt', 'a') as f:\n",
    "            f.write(f'{clf_name} {plot_name}\\n')\n",
    "            f.write(f\"F1-score of Training is: {score_train*100:.2f} %\\n\")\n",
    "            f.write(f\"F1-Score of Validation is: {score_test*100:.2f} %\\n\")\n",
    "            f.write('----'*10 + '\\n')\n",
    "\n",
    "\n",
    "    return True"
   ]
  },
  {
   "cell_type": "code",
   "execution_count": 30,
   "metadata": {},
   "outputs": [
    {
     "data": {
      "text/plain": [
       "True"
      ]
     },
     "execution_count": 30,
     "metadata": {},
     "output_type": "execute_result"
    }
   ],
   "source": [
    "## 1. without considering the imabalancing data\n",
    "train_model(X_train=X_train_final, y_train=y_train, plot_name='without-imbalance', class_weight=None)\n",
    "\n",
    "## 2. with considering the imabalancing data using class_weights\n",
    "train_model(X_train=X_train_final, y_train=y_train, plot_name='with-class-weights', class_weight=dict_weights)\n",
    "\n",
    "## 3. with considering the imabalancing data using oversampled data (SMOTE)\n",
    "train_model(X_train=X_train_resmapled, y_train=y_train_resampled, plot_name=f'with-SMOTE', class_weight=None)\n",
    "\n"
   ]
  },
  {
   "cell_type": "code",
   "execution_count": 32,
   "metadata": {},
   "outputs": [
    {
     "data": {
      "image/png": "[encoded data removed]",
      "text/plain": [
       "<Figure size 1500x500 with 3 Axes>"
      ]
     },
     "metadata": {},
     "output_type": "display_data"
    }
   ],
   "source": [
    "\n",
    "## Combine all conf matrix in one\n",
    "confusion_matrix_paths = [f'./without-imbalance.png', f'./with-class-weights.png', f'./with-SMOTE.png']\n",
    "## Load and plot each confusion matrix\n",
    "plt.figure(figsize=(15, 5))  # Adjust figure size as needed\n",
    "for i, path in enumerate(confusion_matrix_paths, 1):\n",
    "    img = Image.open(path)\n",
    "    plt.subplot(1, len(confusion_matrix_paths), i)\n",
    "    plt.imshow(img)\n",
    "    plt.axis('off')  # Disable axis for cleaner visualization\n",
    "\n",
    "\n",
    "## Save combined plot locally\n",
    "plt.suptitle(clf_name, fontsize=16)\n",
    "plt.tight_layout(rect=[0, 0.03, 1, 0.95])\n",
    "plt.savefig(f'conf_matrix.png', bbox_inches='tight', dpi=300)\n",
    "\n",
    "## Delete old image files\n",
    "for path in confusion_matrix_paths:\n",
    "    os.remove(path)"
   ]
  }
 ],
 "metadata": {
  "kernelspec": {
   "display_name": "my_env",
   "language": "python",
   "name": "python3"
  },
  "language_info": {
   "codemirror_mode": {
    "name": "ipython",
    "version": 3
   },
   "file_extension": ".py",
   "mimetype": "text/x-python",
   "name": "python",
   "nbconvert_exporter": "python",
   "pygments_lexer": "ipython3",
   "version": "3.8.17"
  }
 },
 "nbformat": 4,
 "nbformat_minor": 2
}
